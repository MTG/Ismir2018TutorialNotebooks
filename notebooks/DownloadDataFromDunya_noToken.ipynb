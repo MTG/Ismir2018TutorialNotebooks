{
 "cells": [
  {
   "cell_type": "markdown",
   "metadata": {},
   "source": [
    "## Using Dunya API\n",
    "\n",
    "This notebook demonstrates downloading data using \n",
    "the CompMusic Python library: https://github.com/MTG/pycompmusic which includes a client library to access Dunya. `pycompmusic` is already installed in the docker image, and is ready to use. \n",
    "\n",
    "To be able to download sounds from Dunya, you need to have a user and obtain an API authentication key (token). Please create a user: https://dunya.compmusic.upf.edu/social/register/ \n",
    "In order to get your API token you have to log in to dunya and then go to your profile where you will find your token. \n",
    "\n",
    "This example demonstrates:\n",
    " * downloading a single file using a recording's MusicBrainz ID\n",
    " * downloading files of a CompMusic dataset (https://github.com/MTG/otmm_makam_recognition_dataset)\n",
    "    \n",
    "The [MusicBrainz ID](https://musicbrainz.org/doc/MusicBrainz_Identifier) for a recording is the UUID at the end of a URL for a MusicBrainz page. For example, the recording https://musicbrainz.org/recording/e666ec52-b752-492d-9423-24e1c7bffbc7 has the MusicBrainz ID `e666ec52-b752-492d-9423-24e1c7bffbc7`"
   ]
  },
  {
   "cell_type": "code",
   "execution_count": null,
   "metadata": {},
   "outputs": [],
   "source": [
    "# Set your token here from https://dunya.compmusic.upf.edu/user/profile/\n",
    "token = '...yourAPITokenGoesHere...'"
   ]
  },
  {
   "cell_type": "code",
   "execution_count": null,
   "metadata": {},
   "outputs": [],
   "source": [
    "import collections\n",
    "import json\n",
    "import os\n",
    "from compmusic import dunya\n",
    "\n",
    "dunya.set_token(token)"
   ]
  },
  {
   "cell_type": "markdown",
   "metadata": {},
   "source": [
    "#### Downloading a single/specific file: \n",
    "https://musicbrainz.org/recording/e666ec52-b752-492d-9423-24e1c7bffbc7\n"
   ]
  },
  {
   "cell_type": "code",
   "execution_count": null,
   "metadata": {},
   "outputs": [],
   "source": [
    "musicbrainzid = 'e666ec52-b752-492d-9423-24e1c7bffbc7'\n",
    "data_dir = '../data/compMusicDatasets/turkishMakam/'\n",
    "_ = dunya.makam.download_mp3(musicbrainzid, data_dir)"
   ]
  },
  {
   "cell_type": "markdown",
   "metadata": {},
   "source": [
    "#### Downloading a set of files\n",
    "Example: Audio from the following dataset https://github.com/MTG/otmm_makam_recognition_dataset\n",
    "\n",
    "The OTMM Makam Recognition Dataset comes with a JSON file listing a number of recordings which exist in Dunya, along with some additional metadata. This file has been copied to this repository.\n",
    "\n",
    "We are going to download two audio files from each Makam."
   ]
  },
  {
   "cell_type": "code",
   "execution_count": null,
   "metadata": {},
   "outputs": [],
   "source": [
    "# Reading the dataset description file which contains a list of references to audio\n",
    "with open(os.path.join(data_dir, 'annotations.json')) as fp:\n",
    "    collectionFiles = json.load(fp)\n",
    "\n",
    "# Collecting the list of makams in this dataset\n",
    "makams = collections.defaultdict(list)\n",
    "for file in collectionFiles:\n",
    "    makam = file['makam']\n",
    "    makams[makam].append(file)\n",
    "\n",
    "# Create sub-directories for makams and download a few files for each makam\n",
    "num_files_per_makam = 2\n",
    "\n",
    "print('Downloading files for {} makams'.format(len(makams)))\n",
    "for makam, files in makams.items():\n",
    "    print(' {}'.format(makam))\n",
    "    makam_dir = os.path.join(data_dir, makam)\n",
    "    os.makedirs(makam_dir, exist_ok=True)\n",
    "    \n",
    "    for file in files[:num_files_per_makam]:\n",
    "        musicbrainzid = file['mbid'].split('http://musicbrainz.org/recording/')[-1]\n",
    "        dunya.makam.download_mp3(musicbrainzid, makam_dir)\n",
    "\n",
    "print('Sub-folders and files created in {}'.format(data_dir))"
   ]
  }
 ],
 "metadata": {
  "kernelspec": {
   "display_name": "Python 3",
   "language": "python",
   "name": "python3"
  },
  "language_info": {
   "codemirror_mode": {
    "name": "ipython",
    "version": 3
   },
   "file_extension": ".py",
   "mimetype": "text/x-python",
   "name": "python",
   "nbconvert_exporter": "python",
   "pygments_lexer": "ipython3",
   "version": "3.5.2"
  }
 },
 "nbformat": 4,
 "nbformat_minor": 1
}
