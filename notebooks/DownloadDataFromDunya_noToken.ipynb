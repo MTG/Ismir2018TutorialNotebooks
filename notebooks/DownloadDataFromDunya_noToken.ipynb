{
 "cells": [
  {
   "cell_type": "markdown",
   "metadata": {},
   "source": [
    "## Using Dunya API\n",
    "\n",
    "This notebook demonstrates downloading data using \n",
    "CompMusic Pyton tools: https://github.com/MTG/pycompmusic which include Dunya-API. Pycompmusic is already installed in the docker image, you don't need to carry an installation step. \n",
    "\n",
    "To be able to download sounds from Dunya, you would need to have a user and obtain an API authenticaion key(token). Please create a user: http://dunya.compmusic.upf.edu/social/register/ \n",
    "In order to get your API token you have to log in to dunya and then go to your profile where you will find your token. \n",
    "\n",
    "This example demonstrates:\n",
    "    - downloading a single file using recording's MusicBrainz ID\n",
    "    - downloading files of a CompMusic dataset ( https://github.com/MTG/otmm_makam_recognition_dataset )\n",
    "    \n",
    "Music Brainz ID for a recording is simply the code you can retrieve from a MusicBrainz link to a recording. For example, the recording https://musicbrainz.org/recording/e666ec52-b752-492d-9423-24e1c7bffbc7 has a Music Brainz ID : 'e666ec52-b752-492d-9423-24e1c7bffbc7'"
   ]
  },
  {
   "cell_type": "code",
   "execution_count": 1,
   "metadata": {},
   "outputs": [],
   "source": [
    "import json\n",
    "import os\n",
    "from compmusic import dunya\n",
    "dunya.set_token('...yourAPITokenGoesHere...')"
   ]
  },
  {
   "cell_type": "markdown",
   "metadata": {},
   "source": [
    "#### Downloading a single/specific file: \n",
    "https://musicbrainz.org/recording/e666ec52-b752-492d-9423-24e1c7bffbc7\n"
   ]
  },
  {
   "cell_type": "code",
   "execution_count": 2,
   "metadata": {},
   "outputs": [],
   "source": [
    "musicbrainzid='e666ec52-b752-492d-9423-24e1c7bffbc7'\n",
    "dataDir='../data/compMusicDatasets/turkishMakam/'\n",
    "mp3FileURI = dunya.makam.download_mp3(musicbrainzid,dataDir)"
   ]
  },
  {
   "cell_type": "markdown",
   "metadata": {},
   "source": [
    "#### Dowloading a set of files\n",
    "Example: files of a dataset https://github.com/MTG/otmm_makam_recognition_dataset"
   ]
  },
  {
   "cell_type": "code",
   "execution_count": 3,
   "metadata": {},
   "outputs": [
    {
     "name": "stdout",
     "output_type": "stream",
     "text": [
      "Sub-folders and files created in  ../data/compMusicDatasets/turkishMakam/\n"
     ]
    }
   ],
   "source": [
    "#Reading the dataset description file which contains a list of references to audio\n",
    "with open(dataDir+'annotations.json') as json_data:\n",
    "    collectionFiles = json.load(json_data)\n",
    "\n",
    "#Collecting the list of makams in this dataset\n",
    "makams=set()\n",
    "for file in collectionFiles:\n",
    "    makams.add(file['makam'])\n",
    "\n",
    "#Creating sub-directories for makams and downloading files\n",
    "numFilesPerMakam=2\n",
    "for makam in makams:\n",
    "    if not os.path.exists(dataDir+makam):\n",
    "        os.mkdir(dataDir+makam)\n",
    "    fileInd=0\n",
    "    for file in collectionFiles:\n",
    "        if(file['makam']==makam):\n",
    "            musicbrainzid=file['mbid'].split('http://musicbrainz.org/recording/')[-1]\n",
    "            mp3FileURI = dunya.makam.download_mp3(musicbrainzid,dataDir+makam)\n",
    "            fileInd+=1\n",
    "            if fileInd>=numFilesPerMakam:\n",
    "                break\n",
    "\n",
    "print('Sub-folders and files created in ',dataDir)"
   ]
  }
 ],
 "metadata": {
  "kernelspec": {
   "display_name": "Python 3",
   "language": "python",
   "name": "python3"
  },
  "language_info": {
   "codemirror_mode": {
    "name": "ipython",
    "version": 3
   },
   "file_extension": ".py",
   "mimetype": "text/x-python",
   "name": "python",
   "nbconvert_exporter": "python",
   "pygments_lexer": "ipython3",
   "version": "3.5.2"
  }
 },
 "nbformat": 4,
 "nbformat_minor": 1
}
