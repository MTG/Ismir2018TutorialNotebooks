{
 "cells": [
  {
   "cell_type": "markdown",
   "metadata": {},
   "source": [
    "## Symbolic data processing, Turkish music case\n",
    "\n",
    "In this notebook, the SymTr data (Turkish Makam Music Symbolic Data Collection) (http://compmusic.upf.edu/node/140 , https://github.com/MTG/SymbTr) is used. Here we demonstrate accessing pieces in a specific form and makam, reading a specific a section of the form and ploting the melodic curves. The makams are chosen to apply the same scale but different melodic progressions ('seyir'). \n",
    "\n",
    "\n",
    "The following steps are carried:\n",
    "- Downloading SymbTr data from the github repo\n",
    "- Printing a list of makams and forms sorted with respect to the number of files in those categories\n",
    "- Plotting melodic curves from the first sections in saz-semaisi form in two makams: rast and mahur.\n"
   ]
  },
  {
   "cell_type": "code",
   "execution_count": 1,
   "metadata": {},
   "outputs": [],
   "source": [
    "#Imports\n",
    "import urllib.request\n",
    "import zipfile\n",
    "import os, sys,shutil\n",
    "import numpy as np\n",
    "import matplotlib.pyplot as plt"
   ]
  },
  {
   "cell_type": "markdown",
   "metadata": {},
   "source": [
    "### Downloading SymbTr data"
   ]
  },
  {
   "cell_type": "code",
   "execution_count": 2,
   "metadata": {},
   "outputs": [],
   "source": [
    "dataDir = '../data/compMusicDatasets/turkishMakam/'\n",
    "downloadData = True#set to False if you already downloaded the data\n",
    "\n",
    "if downloadData:\n",
    "    if not os.path.exists(dataDir):#creating the directory\n",
    "        os.mkdir(dataDir);\n",
    "    url = 'https://github.com/MTG/SymbTr/archive/v2.0.0.zip'\n",
    "    filename = 'SymbTr-2.0.0.zip'   \n",
    "    #Downloading the zip file from the url\n",
    "    urllib.request.urlretrieve(url, filename)\n",
    "    #Unzipping to a specific folder\n",
    "    zip_ref = zipfile.ZipFile(filename, 'r')\n",
    "    zip_ref.extractall(dataDir)\n",
    "    zip_ref.close()\n",
    "    os.remove(filename)#Removing the zip file\n",
    "    final_data_dir = os.path.join(dataDir, filename.replace('.zip',''))\n",
    "    print('Data downloaded and unzipped to: %s' % final_data_dir)\n",
    "else:#assuming data was downloaded in a previous call\n",
    "    final_data_dir = os.path.join(dataDir, '/SymbTr-2.0.0/')"
   ]
  },
  {
   "cell_type": "markdown",
   "metadata": {},
   "source": [
    "#### Grouping files with respect to makams, printing a short sorted table\n"
   ]
  },
  {
   "cell_type": "code",
   "execution_count": 3,
   "metadata": {},
   "outputs": [],
   "source": [
    "#Function definitions\n",
    "def printSortedList(file_dict, numCategories = 5):\n",
    "    '''Prints list of categories sorted in terms of number of files contained\n",
    "    \n",
    "    Args:\n",
    "        file_dict (dict): dictionary containing categories mapped to file list\n",
    "        numCategories (int): number of categories  \n",
    "    '''\n",
    "    categories = list(file_dict.keys())\n",
    "    \n",
    "    numFiles_category = np.zeros((len(categories),), dtype=int)\n",
    "    for index in range(len(categories)):\n",
    "        numFiles_category[index] = len(file_dict[categories[index]])\n",
    "    \n",
    "    sortedIndexes=np.flipud(np.argsort(numFiles_category))#highest to lowest sorting\n",
    "    for index in range(numCategories):\n",
    "        print(categories[sortedIndexes[index]],' :\\t', numFiles_category[sortedIndexes[index]])\n",
    "\n",
    "def constructFileDict(fileList, tokenIndex):\n",
    "    '''Constructs/returns dictionary that maps categories to file lists\n",
    "    \n",
    "    The file name is split into tokens accorindg to the format of SymbTr slug:\n",
    "    makam--form--usul--title--composer\n",
    "    \n",
    "    Args:\n",
    "        fileList (list): file list\n",
    "        tokenIndex (int): category to be used for grouping the files\n",
    "            Example: tokenIndex=0, the dictionary returned contains files grouped\n",
    "            in makam categories (keys: makam name, values: file list for the makam).\n",
    "    Outputs:\n",
    "        file_dict (dict): dictionary makking categories to file lists    \n",
    "    '''\n",
    "    file_dict = dict()\n",
    "    for txtFile in fileList:\n",
    "        tokens = txtFile.split('--')\n",
    "        category = tokens[tokenIndex]\n",
    "\n",
    "        files4category = file_dict.get(category)\n",
    "        if files4category == None:\n",
    "            files4category = [txtFile]\n",
    "        else:\n",
    "            files4category.append(txtFile)\n",
    "        file_dict[category] = files4category\n",
    "    \n",
    "    return file_dict\n"
   ]
  },
  {
   "cell_type": "code",
   "execution_count": 4,
   "metadata": {},
   "outputs": [
    {
     "name": "stdout",
     "output_type": "stream",
     "text": [
      "-------------------------------------\n",
      "Most frequently used modes in score collection \n",
      "hicaz  :\t 160\n",
      "nihavent  :\t 128\n",
      "ussak  :\t 119\n",
      "rast  :\t 110\n",
      "huzzam  :\t 96\n",
      "segah  :\t 93\n",
      "huseyni  :\t 91\n",
      "mahur  :\t 88\n",
      "hicazkar  :\t 79\n",
      "kurdilihicazkar  :\t 70\n",
      "-------------------------------------\n",
      "Most frequently used forms in score collection \n",
      "sarki  :\t 991\n",
      "turku  :\t 295\n",
      "seyir  :\t 156\n",
      "kupe  :\t 120\n",
      "pesrev  :\t 93\n",
      "sazsemaisi  :\t 82\n",
      "aranagme  :\t 73\n",
      "ilahi  :\t 41\n",
      "beste  :\t 39\n",
      "yuruksemai  :\t 38\n"
     ]
    }
   ],
   "source": [
    "#Constructing file lists and printing\n",
    "txtFilesList = os.listdir(final_data_dir + 'txt/')\n",
    "makamsFileList = constructFileDict(txtFilesList, 0)\n",
    "formsFileList = constructFileDict(txtFilesList, 1)\n",
    "\n",
    "print('-------------------------------------')\n",
    "print('Most frequently used modes in score collection ')\n",
    "printSortedList(makamsFileList, 10)\n",
    "print('-------------------------------------')\n",
    "print('Most frequently used forms in score collection ')\n",
    "printSortedList(formsFileList, 10)"
   ]
  },
  {
   "cell_type": "markdown",
   "metadata": {},
   "source": [
    "### Plotting melodic curves\n",
    "Below we plot first sections in saz-semaisi form in two makams: rast and mahur. "
   ]
  },
  {
   "cell_type": "code",
   "execution_count": 5,
   "metadata": {},
   "outputs": [],
   "source": [
    "def readInstrumentalSection(filePath, sectionStartStr = '1. HANE'):\n",
    "    '''Reading notes of an instrumental section\n",
    "    \n",
    "    Args:\n",
    "        filePath (str): file path\n",
    "        sectionStartStr (str): section start label. \n",
    "            The section boundaries are marked in the lyrics column with specific indicators.\n",
    "            Example: In saz-semaisi, '1. HANE' refers to the A section\n",
    "    Outputs:\n",
    "        notesSequence (list): note sequence as a list of tuples (midi number, duration) \n",
    "    '''\n",
    "    file = open(filePath,'r')\n",
    "    content = file.read()\n",
    "    lines = content.split('\\n')\n",
    "    #Reading content\n",
    "    notesSequence = []\n",
    "    inSection = False\n",
    "    for line in lines[1:]:#skipping the first line\n",
    "        tokens = line.split('\\t')\n",
    "        if(len(tokens) > 8):\n",
    "            lyrics = tokens[11]\n",
    "            if (not inSection) and (sectionStartStr in line):\n",
    "                inSection = True\n",
    "            elif inSection and len(lyrics) > 0:#any lyrics non-empty is considered a section-end if section is already started\n",
    "                inSection = False\n",
    "\n",
    "            if inSection:\n",
    "                intervalInHc = int(tokens[4])\n",
    "                if intervalInHc > 0:\n",
    "                    midiNumber = intervalInHc*(1200/53)/100#conversion from Holderian commas to midi no\n",
    "                else:\n",
    "                    midiNumber = -1#pause represented with midi no = -1\n",
    "                notesSequence.append((midiNumber, int(tokens[8])))\n",
    "    return notesSequence\n",
    "\n",
    "def melodicCurveFromNotesSequence(notesSequence, totalNumPoints = 1000):\n",
    "    '''Constructing melodic curve from note sequence with a fixed size \n",
    "    \n",
    "    Duration is scaled accordingly to match totalNumPoints\n",
    "    \n",
    "    Args:\n",
    "        notesSequence (list): note sequence as a list of tuples (midi number, duration)\n",
    "        totalNumPoints (int): total number of points to represent the melodic curve\n",
    "    Outputs:   \n",
    "        numpy array containing samples(in midi numbers) of a melody sequence\n",
    "    '''\n",
    "    totalDuration = 0\n",
    "    for (note,duration) in notesSequence:\n",
    "        totalDuration += duration\n",
    "    \n",
    "    durationUnit = totalDuration/totalNumPoints\n",
    "    melograph = []\n",
    "    for (note,duration) in notesSequence:\n",
    "        if(note > 0):#pauses are discarded\n",
    "            numPoints = int(duration/durationUnit)#due to this rounding, totalNumPoints will not be exactly matched\n",
    "            melograph += ([note]*numPoints)\n",
    "    return np.array(melograph)"
   ]
  },
  {
   "cell_type": "code",
   "execution_count": 6,
   "metadata": {},
   "outputs": [
    {
     "name": "stdout",
     "output_type": "stream",
     "text": [
      "Files in makam  rast  and form:  sazsemaisi\n",
      "['rast--sazsemaisi--aksaksemai----benli_hasan_aga.txt', 'rast--sazsemaisi--aksaksemai----kantemiroglu.txt'] \n",
      "\n",
      "Files in makam  mahur  and form:  sazsemaisi\n",
      "['mahur--sazsemaisi--aksaksemai----gazi_giray_han.txt', 'mahur--sazsemaisi--aksaksemai----nikolaki.txt', 'mahur--sazsemaisi--aksaksemai----refik_talat_alpman.txt', 'mahur--sazsemaisi--aksaksemai--bahar_1--goksel_baktagir.txt'] \n",
      "\n"
     ]
    },
    {
     "data": {
      "text/plain": [
       "<matplotlib.legend.Legend at 0x7f1a21c1a5f8>"
      ]
     },
     "execution_count": 6,
     "metadata": {},
     "output_type": "execute_result"
    },
    {
     "data": {
      "image/png": "[encoded data removed]",
      "text/plain": [
       "<matplotlib.figure.Figure at 0x7f1a21c4e1d0>"
      ]
     },
     "metadata": {},
     "output_type": "display_data"
    }
   ],
   "source": [
    "def formFileListForMakamAndForm(fileList, makam, form):\n",
    "    '''Selects/returns a file list ( as a subset from the whole list: 'fileList') \n",
    "    given the filters: makam(str) and form(str)'''\n",
    "    selectedFiles = []\n",
    "    for txtFile in fileList:\n",
    "        if((makam == txtFile.split('--')[0]) and (form == txtFile.split('--')[1])):\n",
    "            selectedFiles.append(txtFile)\n",
    "    return selectedFiles\n",
    "\n",
    "#Let's pick two makams only differing in seyir and plotting melodic curves \n",
    "# for first sections in the sazsemaisi form\n",
    "makams = ['rast','mahur']\n",
    "form = 'sazsemaisi'\n",
    "sectionStartStr = '1. HANE'#section's start indicator (in lyrics)\n",
    "\n",
    "plt.figure(figsize = (13, 3))\n",
    "colors = ['k','r--','b.','g.']#plotting color options for different makams\n",
    "minInterval = 400#a high interval value to be updated with min value observed\n",
    "maxInterval = 0#a low interval value to be updated with max value observed\n",
    "for index in range(len(makams)):\n",
    "    makam = makams[index]\n",
    "    selectedFileList = formFileListForMakamAndForm(txtFilesList, makam, form)\n",
    "    print('Files in makam ', makam, ' and form: ', form)\n",
    "    print(selectedFileList, '\\n')\n",
    "    for symbTrFile in selectedFileList:\n",
    "        #Reading notes of a section (section starting with sectionStartStr in lyrics, ending with any non-empty lyric)\n",
    "        notesSequence=readInstrumentalSection(final_data_dir + '/txt/' + symbTrFile, sectionStartStr)\n",
    "        if(len(notesSequence) > 0):\n",
    "            #print(symbTrFile)\n",
    "            #print('-----------------------')\n",
    "            melograph = melodicCurveFromNotesSequence(notesSequence)\n",
    "            plt.plot(melograph,colors[index], label = makam)\n",
    "            minInterval = min(np.min(melograph), minInterval)\n",
    "            maxInterval = max(np.max(melograph), maxInterval)\n",
    "\n",
    "plt.ylim([minInterval, maxInterval])\n",
    "plt.ylabel('midi number')\n",
    "plt.xlabel('time')\n",
    "plt.legend()"
   ]
  },
  {
   "cell_type": "markdown",
   "metadata": {},
   "source": [
    "#### Note that the midi numbers are fractional. Here is part of a note sequence"
   ]
  },
  {
   "cell_type": "code",
   "execution_count": 7,
   "metadata": {},
   "outputs": [
    {
     "name": "stdout",
     "output_type": "stream",
     "text": [
      "Sample note sequence:\n",
      "List of (midi number, duration), midi=-1 refers to silence \n",
      "\n",
      "[(79.0188679245283, 1000), (74.0377358490566, 500), (74.0377358490566, 125), (76.0754716981132, 125), (77.88679245283019, 125), (79.0188679245283, 125), (81.0566037735849, 125), (82.86792452830188, 125), (84.0, 125), (86.03773584905659, 125)]\n"
     ]
    }
   ],
   "source": [
    "print('Sample note sequence:')\n",
    "print('List of (midi number, duration), midi=-1 refers to silence','\\n')\n",
    "print(notesSequence[:10])"
   ]
  }
 ],
 "metadata": {
  "kernelspec": {
   "display_name": "Python 3",
   "language": "python",
   "name": "python3"
  },
  "language_info": {
   "codemirror_mode": {
    "name": "ipython",
    "version": 3
   },
   "file_extension": ".py",
   "mimetype": "text/x-python",
   "name": "python",
   "nbconvert_exporter": "python",
   "pygments_lexer": "ipython3",
   "version": "3.5.2"
  }
 },
 "nbformat": 4,
 "nbformat_minor": 2
}
