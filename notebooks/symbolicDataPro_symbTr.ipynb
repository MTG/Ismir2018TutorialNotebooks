{
 "cells": [
  {
   "cell_type": "markdown",
   "metadata": {},
   "source": [
    "## Symbolic data processing, Turkish music case\n",
    "\n",
    "In this notebook, the SymTr data (Turkish Makam Music Symbolic Data Collection) (http://compmusic.upf.edu/node/140 , https://github.com/MTG/SymbTr) is used. Here we demonstrate accessing pieces in a specific form and makam, reading a specific a section of the form and ploting the melodic curves. The makams are chosen to apply the same scale but different melodic progressions ('seyir'). \n",
    "\n",
    "\n",
    "The following steps are carried:\n",
    "- Downloading SymbTr data from the github repo\n",
    "- Printing a list of makams and forms sorted with respect to the number of files in those categories\n",
    "- Plotting melodic curves from the first sections in saz-semaisi form in two makams: rast and mahur.\n"
   ]
  },
  {
   "cell_type": "code",
   "execution_count": 1,
   "metadata": {},
   "outputs": [],
   "source": [
    "import collections\n",
    "import csv\n",
    "import glob\n",
    "import os\n",
    "import urllib.request\n",
    "import zipfile\n",
    "\n",
    "import numpy as np\n",
    "import matplotlib.pyplot as plt"
   ]
  },
  {
   "cell_type": "markdown",
   "metadata": {},
   "source": [
    "### Downloading SymbTr data"
   ]
  },
  {
   "cell_type": "markdown",
   "metadata": {},
   "source": [
    "Set this value to `True` to download the supporting data, or to `False` if you have already downloaded it\n",
    "\n",
    "This archive is about 20MB in size"
   ]
  },
  {
   "cell_type": "code",
   "execution_count": 2,
   "metadata": {},
   "outputs": [],
   "source": [
    "downloadData = True"
   ]
  },
  {
   "cell_type": "code",
   "execution_count": 3,
   "metadata": {},
   "outputs": [
    {
     "name": "stdout",
     "output_type": "stream",
     "text": [
      "Data downloaded and unzipped to: ../data/compMusicDatasets/turkishMakam/SymbTr-2.0.0\n"
     ]
    }
   ],
   "source": [
    "baseDir = os.path.join('..', 'data', 'compMusicDatasets', 'turkishMakam')\n",
    "\n",
    "zip_folder = 'SymbTr-2.0.0'\n",
    "dataDir = os.path.join(baseDir, zip_folder)\n",
    "if downloadData:\n",
    "    os.makedirs(dataDir, exist_ok=True)\n",
    "\n",
    "    url = 'https://github.com/MTG/SymbTr/archive/v2.0.0.zip'\n",
    "    filename = 'SymbTr-2.0.0.zip'\n",
    "    # Downloading the SymbTr archive and uncompress it\n",
    "    urllib.request.urlretrieve(url, filename)\n",
    "    zip_ref = zipfile.ZipFile(filename, 'r')\n",
    "    zip_ref.extractall(baseDir)\n",
    "    zip_ref.close()\n",
    "    # Clean up downloaded archive\n",
    "    os.remove(filename)\n",
    "    \n",
    "    print('Data downloaded and unzipped to: {}'.format(dataDir))\n",
    "else:\n",
    "    print('Not downloading data due to request')\n",
    "    if not os.path.exists(dataDir):\n",
    "        print(\"Warning: directory {} doesn't exist (was it downloaded?)\".format(dataDir))"
   ]
  },
  {
   "cell_type": "markdown",
   "metadata": {},
   "source": [
    "#### Grouping files with respect to makams, printing a short sorted table\n"
   ]
  },
  {
   "cell_type": "code",
   "execution_count": 4,
   "metadata": {},
   "outputs": [],
   "source": [
    "#Function definitions\n",
    "def printSortedList(file_dict, numCategories = 5):\n",
    "    '''Prints list of categories sorted in terms of number of files contained\n",
    "    \n",
    "    Args:\n",
    "        file_dict (dict): dictionary containing categories mapped to file list\n",
    "        numCategories (int): number of categories  \n",
    "    '''\n",
    "    counter = collections.Counter()\n",
    "    for cat, files in file_dict.items():\n",
    "        counter[cat] = len(files)\n",
    "        \n",
    "    categories = counter.most_common(numCategories)\n",
    "    max_length = max([len(m) for m in dict(categories).keys()])\n",
    "    for category, count in categories:\n",
    "        print('{category:<{pad}} {count}'.format(category=category, pad=max_length, count=count))\n",
    "\n",
    "def constructFileDict(fileList, tokenIndex):\n",
    "    '''Constructs/returns dictionary that maps categories to file lists\n",
    "    \n",
    "    The file name of a SymbTr file is split into tokens according to the format of the SymbTr slug:\n",
    "    makam--form--usul--title--composer\n",
    "    \n",
    "    Args:\n",
    "        fileList (list): file list\n",
    "        tokenIndex (int): category to be used for grouping the files\n",
    "            Example: tokenIndex=0, the dictionary returned contains files grouped\n",
    "            in makam categories (keys: makam name, values: file list for the makam).\n",
    "    Outputs:\n",
    "        fileDict (dict): dictionary mapping categories to file lists    \n",
    "    '''\n",
    "    fileDict = collections.defaultdict(list)\n",
    "    for txtFile in fileList:\n",
    "        txtFile = os.path.basename(txtFile)\n",
    "        if '--' in txtFile:\n",
    "            tokens = txtFile.split('--')\n",
    "            if tokenIndex >= len(tokens):\n",
    "                print('index too high')\n",
    "                return\n",
    "            category = tokens[tokenIndex]\n",
    "            fileDict[category].append(txtFile)\n",
    "    \n",
    "    return fileDict"
   ]
  },
  {
   "cell_type": "code",
   "execution_count": 5,
   "metadata": {},
   "outputs": [
    {
     "name": "stdout",
     "output_type": "stream",
     "text": [
      "--------------------------------------------------\n",
      "Most frequently used modes in score collection \n",
      "hicaz           160\n",
      "nihavent        128\n",
      "ussak           119\n",
      "rast            110\n",
      "huzzam          96\n",
      "segah           93\n",
      "huseyni         91\n",
      "mahur           88\n",
      "hicazkar        79\n",
      "kurdilihicazkar 70\n",
      "--------------------------------------------------\n",
      "Most frequently used forms in score collection \n",
      "sarki      991\n",
      "turku      295\n",
      "seyir      156\n",
      "kupe       120\n",
      "pesrev     93\n",
      "sazsemaisi 82\n",
      "aranagme   73\n",
      "ilahi      41\n",
      "beste      39\n",
      "yuruksemai 38\n"
     ]
    }
   ],
   "source": [
    "# Construct file lists and print\n",
    "txtFilesList = glob.glob(os.path.join(dataDir, 'txt', '*.txt'))\n",
    "makamsFileList = constructFileDict(txtFilesList, 0)\n",
    "formsFileList = constructFileDict(txtFilesList, 1)\n",
    "\n",
    "print('-' * 50)\n",
    "print('Most frequently used modes in score collection ')\n",
    "printSortedList(makamsFileList, 10)\n",
    "print('-' * 50)\n",
    "print('Most frequently used forms in score collection ')\n",
    "printSortedList(formsFileList, 10)"
   ]
  },
  {
   "cell_type": "markdown",
   "metadata": {},
   "source": [
    "### Plotting melodic curves\n",
    "Below we plot first sections in saz-semaisi form in two makams: rast and mahur. "
   ]
  },
  {
   "cell_type": "code",
   "execution_count": 6,
   "metadata": {},
   "outputs": [],
   "source": [
    "def readInstrumentalSection(filePath, sectionStartStr = '1. HANE'):\n",
    "    '''Reading notes of an instrumental section\n",
    "    \n",
    "    Args:\n",
    "        filePath (str): file path\n",
    "        sectionStartStr (str): section start label. \n",
    "            The section boundaries are marked in the lyrics column with specific indicators.\n",
    "            Example: In saz-semaisi, '1. HANE' refers to the A section\n",
    "    Outputs:\n",
    "        notesSequence (list): note sequence as a list of tuples (midi number, duration) \n",
    "    '''\n",
    "    file = open(filePath,'r')\n",
    "    content = file.read()\n",
    "    lines = content.split('\\n')\n",
    "    #Reading content\n",
    "    notesSequence = []\n",
    "    inSection = False\n",
    "    # skip the first line\n",
    "    for line in lines[1:]:\n",
    "        tokens = line.split('\\t')\n",
    "        if(len(tokens) > 8):\n",
    "            lyrics = tokens[11]\n",
    "            if not inSection and sectionStartStr in line:\n",
    "                inSection = True\n",
    "            elif inSection and len(lyrics) > 0:\n",
    "                # any lyrics non-empty is considered a section-end if section is already started\n",
    "                inSection = False\n",
    "\n",
    "            if inSection:\n",
    "                intervalInHc = int(tokens[4])\n",
    "                if intervalInHc > 0:\n",
    "                    # conversion from Holderian commas to midi number\n",
    "                    midiNumber = intervalInHc*(1200/53)/100\n",
    "                else:\n",
    "                    # pause represented with midi number = -1\n",
    "                    midiNumber = -1\n",
    "                notesSequence.append((midiNumber, int(tokens[8])))\n",
    "    return notesSequence\n",
    "\n",
    "def melodicCurveFromNotesSequence(notesSequence, totalNumPoints = 1000):\n",
    "    '''Constructing melodic curve from note sequence with a fixed size \n",
    "    \n",
    "    Duration is scaled accordingly to match totalNumPoints\n",
    "    \n",
    "    Args:\n",
    "        notesSequence (list): note sequence as a list of tuples (midi number, duration)\n",
    "        totalNumPoints (int): total number of points to represent the melodic curve\n",
    "    Outputs:   \n",
    "        numpy array containing samples(in midi numbers) of a melody sequence\n",
    "    '''\n",
    "    totalDuration = 0\n",
    "    for note, duration in notesSequence:\n",
    "        totalDuration += duration\n",
    "    \n",
    "    durationUnit = totalDuration/totalNumPoints\n",
    "    melograph = []\n",
    "    for note,duration in notesSequence:\n",
    "        if note > 0:\n",
    "            # pauses are discarded\n",
    "            # due to this rounding, totalNumPoints will not be exactly matched\n",
    "            numPoints = int(duration/durationUnit)\n",
    "            melograph += ([note]*numPoints)\n",
    "    return np.array(melograph)"
   ]
  },
  {
   "cell_type": "code",
   "execution_count": 7,
   "metadata": {},
   "outputs": [
    {
     "name": "stdout",
     "output_type": "stream",
     "text": [
      "Files in makam rast and form sazsemaisi\n",
      "['rast--sazsemaisi--aksaksemai----kantemiroglu.txt', 'rast--sazsemaisi--aksaksemai----benli_hasan_aga.txt']\n",
      "Files in makam mahur and form sazsemaisi\n",
      "['mahur--sazsemaisi--aksaksemai----nikolaki.txt', 'mahur--sazsemaisi--aksaksemai--bahar_1--goksel_baktagir.txt', 'mahur--sazsemaisi--aksaksemai----refik_talat_alpman.txt', 'mahur--sazsemaisi--aksaksemai----gazi_giray_han.txt']\n"
     ]
    },
    {
     "data": {
      "text/plain": [
       "<matplotlib.legend.Legend at 0x7f01eb8e9f60>"
      ]
     },
     "execution_count": 7,
     "metadata": {},
     "output_type": "execute_result"
    },
    {
     "data": {
      "image/png": "[encoded data removed]",
      "text/plain": [
       "<Figure size 936x216 with 1 Axes>"
      ]
     },
     "metadata": {
      "needs_background": "light"
     },
     "output_type": "display_data"
    }
   ],
   "source": [
    "def filelist_for_makam_and_form(fileList, makam, form):\n",
    "    '''Selects/returns a file list (a subset of the whole list: 'fileList') \n",
    "    given the filters: makam(str) and form(str)'''\n",
    "    selectedFiles = []\n",
    "    for filepath in fileList:\n",
    "        filename = os.path.basename(filepath)\n",
    "        if filename.split('--')[0] == makam and filename.split('--')[1] == form:\n",
    "            selectedFiles.append(filepath)\n",
    "    return selectedFiles\n",
    "\n",
    "#Let's pick two makams only differing in seyir and plotting melodic curves \n",
    "# for first sections in the sazsemaisi form\n",
    "makams = ['rast', 'mahur']\n",
    "form = 'sazsemaisi'\n",
    "sectionStartStr = '1. HANE'#section's start indicator (in lyrics)\n",
    "\n",
    "plt.figure(figsize=(13, 3))\n",
    "# plotting color options for different makams\n",
    "colors=['k', 'r--', 'b.', 'g.']\n",
    "# a high interval value to be updated with min value observed\n",
    "minInterval = 400\n",
    "# a low interval value to be updated with max value observed\n",
    "maxInterval = 0\n",
    "for index, makam in enumerate(makams):\n",
    "    selectedFileList = filelist_for_makam_and_form(txtFilesList, makam, form)\n",
    "    print('Files in makam {} and form {}'.format(makam, form))\n",
    "    print([os.path.basename(f) for f in selectedFileList])\n",
    "    for symbTrFile in selectedFileList:\n",
    "        # Read notes of a section (section starting with sectionStartStr in lyrics, ending with any non-empty lyric)\n",
    "        notesSequence = readInstrumentalSection(symbTrFile, sectionStartStr)\n",
    "        if len(notesSequence) > 0:\n",
    "            #print(symbTrFile)\n",
    "            #print('-----------------------')\n",
    "            melograph = melodicCurveFromNotesSequence(notesSequence)\n",
    "            plt.plot(melograph, colors[index], label=makam)\n",
    "            minInterval = min(np.min(melograph), minInterval)\n",
    "            maxInterval = max(np.max(melograph), maxInterval)\n",
    "\n",
    "plt.ylim([minInterval, maxInterval])\n",
    "plt.ylabel('midi number')\n",
    "plt.xlabel('time')\n",
    "plt.legend()"
   ]
  },
  {
   "cell_type": "markdown",
   "metadata": {},
   "source": [
    "#### Note that the midi numbers are fractional. Here is part of a note sequence"
   ]
  },
  {
   "cell_type": "code",
   "execution_count": 8,
   "metadata": {},
   "outputs": [
    {
     "name": "stdout",
     "output_type": "stream",
     "text": [
      "Sample note sequence:\n",
      "List of (midi number, duration), midi=-1 refers to silence \n",
      "\n",
      "[(79.0188679245283, 1176), (81.0566037735849, 588), (79.0188679245283, 1176), (78.11320754716981, 294), (79.0188679245283, 294), (78.11320754716981, 588), (76.0754716981132, 1176), (74.0377358490566, 588), (76.0754716981132, 1176), (74.0377358490566, 588)]\n"
     ]
    }
   ],
   "source": [
    "print('Sample note sequence:')\n",
    "print('List of (midi number, duration), midi=-1 refers to silence','\\n')\n",
    "print(notesSequence[:10])"
   ]
  },
  {
   "cell_type": "code",
   "execution_count": null,
   "metadata": {},
   "outputs": [],
   "source": []
  }
 ],
 "metadata": {
  "kernelspec": {
   "display_name": "Python 3",
   "language": "python",
   "name": "python3"
  },
  "language_info": {
   "codemirror_mode": {
    "name": "ipython",
    "version": 3
   },
   "file_extension": ".py",
   "mimetype": "text/x-python",
   "name": "python",
   "nbconvert_exporter": "python",
   "pygments_lexer": "ipython3",
   "version": "3.5.2"
  }
 },
 "nbformat": 4,
 "nbformat_minor": 2
}
