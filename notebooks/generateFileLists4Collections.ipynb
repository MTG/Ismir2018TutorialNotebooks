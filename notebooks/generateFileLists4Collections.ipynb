{
 "cells": [
  {
   "cell_type": "markdown",
   "metadata": {},
   "source": [
    "## Generating file lists for various Dunya collections (for mode and rhythm mode recognition experiments)\n",
    "\n",
    "This notebook targets accessing Dunya data and collecting file lists for several collections.\n",
    "\n",
    "The main aim is to create subsets of data for mode and rhythm mode recognition experiments and the process is split into two notebooks. In this first notebook, we create a list of recordings and relevant metadata. For each recording the following information is included:\n",
    "- Files available for that recording\n",
    "- MusicBrainz id (mbid)\n",
    "- Mode information (raga, makam, etc)\n",
    "- Rhythm mode information (tala, usul, etc)\n",
    "\n",
    "Then, the second notebook (formExpSubsets4ModeRecognition.ipynb) reads this file and forms the subsets by grouping recordings with respect to mode or rhythm mode while also checking available files (ex: tonic annotation) for the recording"
   ]
  },
  {
   "cell_type": "code",
   "execution_count": null,
   "metadata": {},
   "outputs": [],
   "source": [
    "# Set your token here from https://dunya.compmusic.upf.edu/user/profile/\n",
    "token = '...yourAPITokenGoesHere...'"
   ]
  },
  {
   "cell_type": "code",
   "execution_count": null,
   "metadata": {},
   "outputs": [],
   "source": [
    "import codecs\n",
    "import json, os, sys\n",
    "import pickle\n",
    "import csv\n",
    "import time\n",
    "import datetime\n",
    "import collections\n",
    "\n",
    "import numpy as np\n",
    "\n",
    "import compmusic\n",
    "from compmusic import dunya as dn\n",
    "from compmusic.dunya import hindustani as hi\n",
    "from compmusic.dunya import carnatic as ca\n",
    "from compmusic.dunya import makam as ma\n",
    "from compmusic.dunya import docserver as ds\n",
    "from compmusic import musicbrainz\n",
    "from compmusic.dunya import conn\n",
    "\n",
    "dn.set_token(token)"
   ]
  },
  {
   "cell_type": "markdown",
   "metadata": {},
   "source": [
    "### Collecting files of three collections: Carnatic, Hindustani and Makam\n",
    "\n",
    "In Dunya, data is stored according to a model specific to each culture. For cross-cultural studies (such as testing of a mode recognition algorithm for all Dunya collections), one needs to access all collections in some unified way. We access data from each culture collection and arrange it in a consistent format for further analysis. Further this list can be processed to create data subsets for automatic recognition experiments."
   ]
  },
  {
   "cell_type": "code",
   "execution_count": null,
   "metadata": {},
   "outputs": [],
   "source": [
    "# Set to None to get all files\n",
    "maxNumFiles = None "
   ]
  },
  {
   "cell_type": "markdown",
   "metadata": {},
   "source": [
    "These method get only the mode information from each collection that we require for this analysis. We rename the attributes to be consistent for all collections.\n",
    "We only consider the first values for each of these fields, in the case that several modes are available, you may like to alter the code to check all modes and treat those having more than one distinct mode in a different way "
   ]
  },
  {
   "cell_type": "code",
   "execution_count": null,
   "metadata": {},
   "outputs": [],
   "source": [
    "def get_carnatic_metadata(maxNumFiles=None):\n",
    "    \"\"\" Get Carnatic specific mode and rhythmic mode metadata for all recordings.\"\"\"\n",
    "    carnatic_recordings = ca.get_recordings(recording_detail=True)\n",
    "    if maxNumFiles:\n",
    "        carnatic_recordings = carnatic_recordings[:maxNumFiles]\n",
    "        \n",
    "    # Get only the information that we want for each collection. Rename the attributes to be\n",
    "    # consistent for all collections.\n",
    "    # Carnatic\n",
    "    # mode -> raaga, rhythmMode -> taala\n",
    "    carnatic_metadata = []\n",
    "    for r in carnatic_recordings:\n",
    "        if r['raaga'] or r['taala']:\n",
    "            data = {'mbid': r['mbid']}\n",
    "            if r['raaga']:\n",
    "                data['mode'] = r['raaga'][0]['common_name']\n",
    "            if r['taala']:\n",
    "                data['rhythmMode'] = r['taala'][0]['common_name']\n",
    "            carnatic_metadata.append(data)\n",
    "    return carnatic_metadata\n",
    "\n",
    "def get_hindustani_metadata(maxNumFiles=None):\n",
    "    \"\"\" Get Hindustani specific mode and rhythmic mode metadata for all recordings.\"\"\"\n",
    "    hindustani_recordings = hi.get_recordings(recording_detail=True)\n",
    "    if maxNumFiles:\n",
    "        hindustani_recordings = hindustani_recordings[:maxNumFiles]\n",
    "        \n",
    "    # Get only the information that we want for each collection. Rename the attributes to be\n",
    "    # consistent for all collections.\n",
    "    # Hindustani\n",
    "    # mode -> raag, rhythmMode -> taal\n",
    "    # The API for hindustani returns some MBIDs twice, we do a basic filtering here.\n",
    "    seen_mbids = set()\n",
    "    hindustani_metadata = []\n",
    "    for r in hindustani_recordings:\n",
    "        if r['raags'] or r['taals']:\n",
    "            data = {'mbid': r['mbid']}\n",
    "            if r['raags']:\n",
    "                data['mode'] = r['raags'][0]['common_name']\n",
    "            if r['taals']:\n",
    "                data['rhythmMode'] = r['taals'][0]['common_name']\n",
    "            if r['mbid'] not in seen_mbids:\n",
    "                hindustani_metadata.append(data)\n",
    "                seen_mbids.add(r['mbid'])\n",
    "    return hindustani_metadata\n",
    "\n",
    "def get_makam_metadata(maxNumFiles=None):\n",
    "    \"\"\" Get Turkish-makam specific mode and rhythmic mode metadata for all recordings.\"\"\"\n",
    "    makam_recordings = ma.get_recordings(recording_detail=True)\n",
    "    if maxNumFiles:\n",
    "        makam_recordings = makam_recordings[:maxNumFiles]\n",
    "    # Get only the information that we want for each collection. Rename the attributes to be\n",
    "    # consistent for all collections.\n",
    "    # Makam\n",
    "    # mode -> makam, rhythmMode -> usul\n",
    "    makam_metadata = []\n",
    "    for r in makam_recordings:\n",
    "        if r['makamlist'] or r['usullist']:\n",
    "            data = {'mbid': r['mbid']}\n",
    "            if r['makamlist']:\n",
    "                data['mode'] = r['makamlist'][0]['name']\n",
    "            if r['usullist']:\n",
    "                data['rhythmMode'] = r['usullist'][0]['name']\n",
    "            makam_metadata.append(data)\n",
    "    return makam_metadata"
   ]
  },
  {
   "cell_type": "markdown",
   "metadata": {},
   "source": [
    "This next step may take some time - these methods retrieve detailed information for all recordings in each collection, which requires a number of webservice requests"
   ]
  },
  {
   "cell_type": "code",
   "execution_count": null,
   "metadata": {},
   "outputs": [],
   "source": [
    "print('Process start time: {}'.format(datetime.datetime.now()))\n",
    "print('Starting Hindustani: {}'.format(datetime.datetime.now()))\n",
    "hindustani_metadata = get_hindustani_metadata(maxNumFiles)\n",
    "print('Starting Carnatic: {}'.format(datetime.datetime.now()))\n",
    "carnatic_metadata = get_carnatic_metadata(maxNumFiles)\n",
    "print('Starting Makam: {}'.format(datetime.datetime.now()))\n",
    "makam_metadata = get_makam_metadata(maxNumFiles)\n",
    "\n",
    "metaData_collections = {'hindustani': hindustani_metadata,\n",
    "                        'carnatic': carnatic_metadata,\n",
    "                        'makam': makam_metadata}\n",
    "\n",
    "print('Process end time: {}'.format(datetime.datetime.now()))\n",
    "\n",
    "# Save data to file\n",
    "pickle.dump(metaData_collections, open('metaData_collections.pkl', 'wb'))"
   ]
  }
 ],
 "metadata": {
  "kernelspec": {
   "display_name": "Python 3",
   "language": "python",
   "name": "python3"
  },
  "language_info": {
   "codemirror_mode": {
    "name": "ipython",
    "version": 3
   },
   "file_extension": ".py",
   "mimetype": "text/x-python",
   "name": "python",
   "nbconvert_exporter": "python",
   "pygments_lexer": "ipython3",
   "version": "3.5.2"
  }
 },
 "nbformat": 4,
 "nbformat_minor": 2
}
